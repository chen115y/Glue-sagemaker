{
 "cells": [
  {
   "cell_type": "code",
   "execution_count": 1,
   "metadata": {
    "ExecuteTime": {
     "end_time": "2021-08-03T15:56:08.498767Z",
     "start_time": "2021-08-03T15:56:07.906205Z"
    }
   },
   "outputs": [],
   "source": [
    "import os\n",
    "import io\n",
    "import sys\n",
    "import json\n",
    "import boto3\n",
    "import argparse\n",
    "import datetime as dt\n",
    "import pandas as pd\n",
    "import numpy as np"
   ]
  },
  {
   "cell_type": "code",
   "execution_count": 2,
   "metadata": {
    "ExecuteTime": {
     "end_time": "2021-08-03T15:56:09.748255Z",
     "start_time": "2021-08-03T15:56:09.745644Z"
    }
   },
   "outputs": [],
   "source": [
    "kinesis_stream_name = 'customer_churn_stream'\n",
    "region = 'us-east-1'\n",
    "datafile = 'churn.txt'"
   ]
  },
  {
   "cell_type": "code",
   "execution_count": 22,
   "metadata": {},
   "outputs": [],
   "source": [
    "!aws kinesis create-stream --stream-name customer_churn_stream --shard-count 1 --region us-east-1"
   ]
  },
  {
   "cell_type": "code",
   "execution_count": 3,
   "metadata": {
    "ExecuteTime": {
     "end_time": "2021-08-03T15:56:11.269221Z",
     "start_time": "2021-08-03T15:56:11.266073Z"
    }
   },
   "outputs": [],
   "source": [
    "# Generates a list of records to be sent to kinesis\n",
    "def generate_kinesis_record(datafile):\n",
    "    df = pd.read_csv(datafile, header='infer')\n",
    "    records = json.loads(df.to_json(orient='records'))\n",
    "    return records"
   ]
  },
  {
   "cell_type": "code",
   "execution_count": 5,
   "metadata": {
    "ExecuteTime": {
     "end_time": "2021-08-03T16:15:43.026911Z",
     "start_time": "2021-08-03T16:15:42.977258Z"
    }
   },
   "outputs": [],
   "source": [
    "session = boto3.Session()\n",
    "kinesis_client = session.client('kinesis', region)"
   ]
  },
  {
   "cell_type": "code",
   "execution_count": 17,
   "metadata": {
    "ExecuteTime": {
     "end_time": "2021-08-03T17:18:54.603099Z",
     "start_time": "2021-08-03T17:18:54.089910Z"
    }
   },
   "outputs": [],
   "source": [
    "for row in generate_kinesis_record(datafile):\n",
    "    data = json.dumps(row)\n",
    "    stream_record = [{'Data': bytes(data, 'utf-8'), 'PartitionKey': 'partition_key'}]\n",
    "    # print(stream_record)\n",
    "    kinesis_client.put_records(StreamName=kinesis_stream_name, Records=stream_record)"
   ]
  },
  {
   "cell_type": "code",
   "execution_count": 18,
   "metadata": {
    "ExecuteTime": {
     "end_time": "2021-08-03T17:41:01.804404Z",
     "start_time": "2021-08-03T17:41:01.615675Z"
    }
   },
   "outputs": [
    {
     "data": {
      "text/plain": [
       "{'StreamDescription': {'StreamName': 'customer_churn_stream',\n",
       "  'StreamARN': 'arn:aws:kinesis:us-east-1:684423739646:stream/customer_churn_stream',\n",
       "  'StreamStatus': 'ACTIVE',\n",
       "  'Shards': [{'ShardId': 'shardId-000000000000',\n",
       "    'HashKeyRange': {'StartingHashKey': '0',\n",
       "     'EndingHashKey': '340282366920938463463374607431768211455'},\n",
       "    'SequenceNumberRange': {'StartingSequenceNumber': '49621001703233331718298631089606496077201973825501134850'}}],\n",
       "  'HasMoreShards': False,\n",
       "  'RetentionPeriodHours': 24,\n",
       "  'StreamCreationTimestamp': datetime.datetime(2021, 8, 11, 20, 25, 1, tzinfo=tzlocal()),\n",
       "  'EnhancedMonitoring': [{'ShardLevelMetrics': []}],\n",
       "  'EncryptionType': 'NONE'},\n",
       " 'ResponseMetadata': {'RequestId': 'fd86d452-c8c4-f7a5-a408-ef40aa6e9500',\n",
       "  'HTTPStatusCode': 200,\n",
       "  'HTTPHeaders': {'x-amzn-requestid': 'fd86d452-c8c4-f7a5-a408-ef40aa6e9500',\n",
       "   'x-amz-id-2': 'b/GoV9+fwEIrp6Ynxbm+hZy/EPCG3NwdZz8FdVBK8cYkQWFY+XIm8Y6JvoTtfV5PQMoGUyJcrhiwLgf00aQFJe683rd86hDD',\n",
       "   'date': 'Wed, 11 Aug 2021 20:53:38 GMT',\n",
       "   'content-type': 'application/x-amz-json-1.1',\n",
       "   'content-length': '577'},\n",
       "  'RetryAttempts': 0}}"
      ]
     },
     "execution_count": 18,
     "metadata": {},
     "output_type": "execute_result"
    }
   ],
   "source": [
    "response = kinesis_client.describe_stream(StreamName=stream_name)\n",
    "response"
   ]
  },
  {
   "cell_type": "code",
   "execution_count": 19,
   "metadata": {
    "ExecuteTime": {
     "end_time": "2021-08-03T17:45:53.383213Z",
     "start_time": "2021-08-03T17:45:53.093428Z"
    }
   },
   "outputs": [
    {
     "data": {
      "text/plain": [
       "{'ShardIterator': 'AAAAAAAAAAGI71aLMAU9jdGaEMjNaHpPKLjNNKPxg9ieFviSk0DXDc0lZt5wTqIdhVeo3KxvicUd3Qms5tpcLVi4DjdoPwd9Gv5z6EoMyLSnNWAhrm3NJvMCFM74us1+CwFqyvVC93IJ8ENFIIhO8oeDXEuEglFtQLl3YdQvCRSB1jlWxD+KIx4wzKLIy/FZs1Ub4wQkPmADSdxYd/tvn9VO2hbuEDQayYaDjRVceZ1CLqpHlPXAHJ7ROV7IxA0eetkm1GQeCKQ=',\n",
       " 'ResponseMetadata': {'RequestId': 'd892c731-3bcd-1cca-811c-fc2559677e6f',\n",
       "  'HTTPStatusCode': 200,\n",
       "  'HTTPHeaders': {'x-amzn-requestid': 'd892c731-3bcd-1cca-811c-fc2559677e6f',\n",
       "   'x-amz-id-2': 'eH9FmPwMMB7K9DKuG2ZZ44CO5TtB7Xn514amB057B5UqgP4Ssqr3ZwLD/8MJHhwCwzu+BDr6HmBbZfS6EXCCrWi8i/ESlA76',\n",
       "   'date': 'Wed, 11 Aug 2021 20:53:40 GMT',\n",
       "   'content-type': 'application/x-amz-json-1.1',\n",
       "   'content-length': '288'},\n",
       "  'RetryAttempts': 0}}"
      ]
     },
     "execution_count": 19,
     "metadata": {},
     "output_type": "execute_result"
    }
   ],
   "source": [
    "shard_id = response['StreamDescription']['Shards'][0]['ShardId']\n",
    "shard_iterator = kinesis_client.get_shard_iterator(StreamName=stream_name,\n",
    "                                                      ShardId=shard_id,\n",
    "                                                      ShardIteratorType='TRIM_HORIZON')\n",
    "shard_iterator"
   ]
  },
  {
   "cell_type": "code",
   "execution_count": 20,
   "metadata": {
    "ExecuteTime": {
     "end_time": "2021-08-03T17:46:20.295479Z",
     "start_time": "2021-08-03T17:46:19.997260Z"
    }
   },
   "outputs": [
    {
     "data": {
      "text/plain": [
       "[{'SequenceNumber': '49621001703233331718298631092725524691807791175838990338',\n",
       "  'ApproximateArrivalTimestamp': datetime.datetime(2021, 8, 11, 20, 42, 57, 846000, tzinfo=tzlocal()),\n",
       "  'Data': b'{\"State\": \"KS\", \"Account Length\": 128, \"Area Code\": 415, \"Phone\": \"382-4657\", \"Int\\'l Plan\": \"no\", \"VMail Plan\": \"yes\", \"VMail Message\": 25, \"Day Mins\": 265.1, \"Day Calls\": 110, \"Day Charge\": 45.07, \"Eve Mins\": 197.4, \"Eve Calls\": 99, \"Eve Charge\": 16.78, \"Night Mins\": 244.7, \"Night Calls\": 91, \"Night Charge\": 11.01, \"Intl Mins\": 10.0, \"Intl Calls\": 3, \"Intl Charge\": 2.7, \"CustServ Calls\": 1, \"Churn?\": \"False.\"}',\n",
       "  'PartitionKey': 'partition_key'},\n",
       " {'SequenceNumber': '49621001703233331718298631092726733617627405805013696514',\n",
       "  'ApproximateArrivalTimestamp': datetime.datetime(2021, 8, 11, 20, 42, 57, 857000, tzinfo=tzlocal()),\n",
       "  'Data': b'{\"State\": \"OH\", \"Account Length\": 107, \"Area Code\": 415, \"Phone\": \"371-7191\", \"Int\\'l Plan\": \"no\", \"VMail Plan\": \"yes\", \"VMail Message\": 26, \"Day Mins\": 161.6, \"Day Calls\": 123, \"Day Charge\": 27.47, \"Eve Mins\": 195.5, \"Eve Calls\": 103, \"Eve Charge\": 16.62, \"Night Mins\": 254.4, \"Night Calls\": 103, \"Night Charge\": 11.45, \"Intl Mins\": 13.7, \"Intl Calls\": 3, \"Intl Charge\": 3.7, \"CustServ Calls\": 1, \"Churn?\": \"False.\"}',\n",
       "  'PartitionKey': 'partition_key'}]"
      ]
     },
     "execution_count": 20,
     "metadata": {},
     "output_type": "execute_result"
    }
   ],
   "source": [
    "my_shard_iterator = shard_iterator['ShardIterator']\n",
    "\n",
    "record_response = kinesis_client.get_records(ShardIterator=my_shard_iterator, Limit=2)\n",
    "record_response['Records']"
   ]
  },
  {
   "cell_type": "code",
   "execution_count": null,
   "metadata": {},
   "outputs": [],
   "source": []
  }
 ],
 "metadata": {
  "instance_type": "ml.t3.medium",
  "kernelspec": {
   "display_name": "Python 3 (Data Science)",
   "language": "python",
   "name": "python3__SAGEMAKER_INTERNAL__arn:aws:sagemaker:us-east-1:081325390199:image/datascience-1.0"
  },
  "language_info": {
   "codemirror_mode": {
    "name": "ipython",
    "version": 3
   },
   "file_extension": ".py",
   "mimetype": "text/x-python",
   "name": "python",
   "nbconvert_exporter": "python",
   "pygments_lexer": "ipython3",
   "version": "3.7.10"
  },
  "toc": {
   "base_numbering": 1,
   "nav_menu": {},
   "number_sections": true,
   "sideBar": true,
   "skip_h1_title": false,
   "title_cell": "Table of Contents",
   "title_sidebar": "Contents",
   "toc_cell": false,
   "toc_position": {},
   "toc_section_display": true,
   "toc_window_display": false
  }
 },
 "nbformat": 4,
 "nbformat_minor": 4
}
