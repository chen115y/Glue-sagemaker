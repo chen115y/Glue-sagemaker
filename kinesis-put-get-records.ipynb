{
 "cells": [
  {
   "cell_type": "code",
   "execution_count": 1,
   "metadata": {
    "ExecuteTime": {
     "end_time": "2021-08-03T15:56:08.498767Z",
     "start_time": "2021-08-03T15:56:07.906205Z"
    }
   },
   "outputs": [],
   "source": [
    "import os\n",
    "import io\n",
    "import sys\n",
    "import json\n",
    "import boto3\n",
    "import argparse\n",
    "import datetime as dt\n",
    "import pandas as pd\n",
    "import numpy as np\n",
    "import time"
   ]
  },
  {
   "cell_type": "code",
   "execution_count": 2,
   "metadata": {
    "ExecuteTime": {
     "end_time": "2021-08-03T15:56:09.748255Z",
     "start_time": "2021-08-03T15:56:09.745644Z"
    }
   },
   "outputs": [],
   "source": [
    "kinesis_stream_name = 'customer_churn_stream'\n",
    "region = 'us-east-1'\n",
    "datafile = 'churn.txt'"
   ]
  },
  {
   "cell_type": "code",
   "execution_count": 3,
   "metadata": {},
   "outputs": [],
   "source": [
    "!aws kinesis create-stream --stream-name customer_churn_stream --shard-count 1 --region us-east-1"
   ]
  },
  {
   "cell_type": "code",
   "execution_count": 4,
   "metadata": {
    "ExecuteTime": {
     "end_time": "2021-08-03T15:56:11.269221Z",
     "start_time": "2021-08-03T15:56:11.266073Z"
    }
   },
   "outputs": [],
   "source": [
    "# Generates a list of records to be sent to kinesis\n",
    "def generate_kinesis_record(datafile):\n",
    "    df = pd.read_csv(datafile, header='infer')\n",
    "    records = json.loads(df.to_json(orient='records'))\n",
    "    return records"
   ]
  },
  {
   "cell_type": "code",
   "execution_count": 5,
   "metadata": {
    "ExecuteTime": {
     "end_time": "2021-08-03T16:15:43.026911Z",
     "start_time": "2021-08-03T16:15:42.977258Z"
    }
   },
   "outputs": [],
   "source": [
    "session = boto3.Session()\n",
    "kinesis_client = session.client('kinesis', region)"
   ]
  },
  {
   "cell_type": "code",
   "execution_count": 6,
   "metadata": {
    "ExecuteTime": {
     "end_time": "2021-08-03T17:41:01.804404Z",
     "start_time": "2021-08-03T17:41:01.615675Z"
    }
   },
   "outputs": [
    {
     "name": "stdout",
     "output_type": "stream",
     "text": [
      "Kinesis data stream status is: Active\n"
     ]
    }
   ],
   "source": [
    "stream_status = 'Inactive'\n",
    "\n",
    "while stream_status != 'Active':\n",
    "    response = kinesis_client.describe_stream(StreamName=kinesis_stream_name)\n",
    "    if response['StreamDescription']['StreamStatus'] == 'ACTIVE':\n",
    "        stream_status = 'Active'\n",
    "    else:\n",
    "        # wait for 5 second\n",
    "        time.sleep(5)\n",
    "\n",
    "print('Kinesis data stream status is:', stream_status)"
   ]
  },
  {
   "cell_type": "code",
   "execution_count": 7,
   "metadata": {
    "ExecuteTime": {
     "end_time": "2021-08-03T17:18:54.603099Z",
     "start_time": "2021-08-03T17:18:54.089910Z"
    }
   },
   "outputs": [],
   "source": [
    "for row in generate_kinesis_record(datafile):\n",
    "    data = json.dumps(row)\n",
    "    stream_record = [{'Data': bytes(data, 'utf-8'), 'PartitionKey': 'partition_key'}]\n",
    "    # print(stream_record)\n",
    "    kinesis_client.put_records(StreamName=kinesis_stream_name, Records=stream_record)"
   ]
  },
  {
   "cell_type": "code",
   "execution_count": 9,
   "metadata": {
    "ExecuteTime": {
     "end_time": "2021-08-03T17:45:53.383213Z",
     "start_time": "2021-08-03T17:45:53.093428Z"
    }
   },
   "outputs": [
    {
     "data": {
      "text/plain": [
       "{'ShardIterator': 'AAAAAAAAAAHYsFQASD8cIgvEbBSVnWrNsnVOrvUeML2UQn2Od8b5ZSw/lCqkTHeCSS4ml/Xk7VY7qdL1tSXTJ5CdOJAL65++BOoKDm0Oc/iHdwvwT6Bl9jyxd9+TxiafDzOjwQoIy4YBLS73hG1RtdKDcffVA0vpQxMi7XKw00LTzj0Dv8yqv6LwtJy+7gd4t4B3DHgCLxLCGRwEBDa/cojdFkwqHAr2n652xbdxGXtNYvHnQUQpcUHWVASd1l+bOP+9wvxRWFw=',\n",
       " 'ResponseMetadata': {'RequestId': 'f4637a4f-8f66-b8b0-adec-9a390dec36e5',\n",
       "  'HTTPStatusCode': 200,\n",
       "  'HTTPHeaders': {'x-amzn-requestid': 'f4637a4f-8f66-b8b0-adec-9a390dec36e5',\n",
       "   'x-amz-id-2': 'oBvQC0A4pVVn6V257QYwErIPFiwIMTqQNU/YSDhhQktIChjn6i9pfbycDmvfygz6RI07HzaLyMLCogbZUtCaOPeiwT7/LEnX',\n",
       "   'date': 'Fri, 13 Aug 2021 02:51:34 GMT',\n",
       "   'content-type': 'application/x-amz-json-1.1',\n",
       "   'content-length': '288'},\n",
       "  'RetryAttempts': 0}}"
      ]
     },
     "execution_count": 9,
     "metadata": {},
     "output_type": "execute_result"
    }
   ],
   "source": [
    "shard_id = response['StreamDescription']['Shards'][0]['ShardId']\n",
    "shard_iterator = kinesis_client.get_shard_iterator(StreamName=kinesis_stream_name,\n",
    "                                                      ShardId=shard_id,\n",
    "                                                      ShardIteratorType='TRIM_HORIZON')\n",
    "shard_iterator"
   ]
  },
  {
   "cell_type": "code",
   "execution_count": 10,
   "metadata": {
    "ExecuteTime": {
     "end_time": "2021-08-03T17:46:20.295479Z",
     "start_time": "2021-08-03T17:46:19.997260Z"
    }
   },
   "outputs": [
    {
     "data": {
      "text/plain": [
       "[{'SequenceNumber': '49621040786984148778304013989830376064145779323184349186',\n",
       "  'ApproximateArrivalTimestamp': datetime.datetime(2021, 8, 13, 2, 50, 44, 192000, tzinfo=tzlocal()),\n",
       "  'Data': b'{\"State\": \"KS\", \"Account Length\": 128, \"Area Code\": 415, \"Phone\": \"382-4657\", \"Int\\'l Plan\": \"no\", \"VMail Plan\": \"yes\", \"VMail Message\": 25, \"Day Mins\": 265.1, \"Day Calls\": 110, \"Day Charge\": 45.07, \"Eve Mins\": 197.4, \"Eve Calls\": 99, \"Eve Charge\": 16.78, \"Night Mins\": 244.7, \"Night Calls\": 91, \"Night Charge\": 11.01, \"Intl Mins\": 10.0, \"Intl Calls\": 3, \"Intl Charge\": 2.7, \"CustServ Calls\": 1, \"Churn?\": \"False.\"}',\n",
       "  'PartitionKey': 'partition_key'},\n",
       " {'SequenceNumber': '49621040786984148778304013989831584989965393952359055362',\n",
       "  'ApproximateArrivalTimestamp': datetime.datetime(2021, 8, 13, 2, 50, 44, 204000, tzinfo=tzlocal()),\n",
       "  'Data': b'{\"State\": \"OH\", \"Account Length\": 107, \"Area Code\": 415, \"Phone\": \"371-7191\", \"Int\\'l Plan\": \"no\", \"VMail Plan\": \"yes\", \"VMail Message\": 26, \"Day Mins\": 161.6, \"Day Calls\": 123, \"Day Charge\": 27.47, \"Eve Mins\": 195.5, \"Eve Calls\": 103, \"Eve Charge\": 16.62, \"Night Mins\": 254.4, \"Night Calls\": 103, \"Night Charge\": 11.45, \"Intl Mins\": 13.7, \"Intl Calls\": 3, \"Intl Charge\": 3.7, \"CustServ Calls\": 1, \"Churn?\": \"False.\"}',\n",
       "  'PartitionKey': 'partition_key'}]"
      ]
     },
     "execution_count": 10,
     "metadata": {},
     "output_type": "execute_result"
    }
   ],
   "source": [
    "my_shard_iterator = shard_iterator['ShardIterator']\n",
    "\n",
    "record_response = kinesis_client.get_records(ShardIterator=my_shard_iterator, Limit=2)\n",
    "record_response['Records']"
   ]
  },
  {
   "cell_type": "code",
   "execution_count": null,
   "metadata": {},
   "outputs": [],
   "source": []
  }
 ],
 "metadata": {
  "instance_type": "ml.t3.medium",
  "kernelspec": {
   "display_name": "Python 3 (Data Science)",
   "language": "python",
   "name": "python3__SAGEMAKER_INTERNAL__arn:aws:sagemaker:us-east-1:081325390199:image/datascience-1.0"
  },
  "language_info": {
   "codemirror_mode": {
    "name": "ipython",
    "version": 3
   },
   "file_extension": ".py",
   "mimetype": "text/x-python",
   "name": "python",
   "nbconvert_exporter": "python",
   "pygments_lexer": "ipython3",
   "version": "3.7.10"
  },
  "toc": {
   "base_numbering": 1,
   "nav_menu": {},
   "number_sections": true,
   "sideBar": true,
   "skip_h1_title": false,
   "title_cell": "Table of Contents",
   "title_sidebar": "Contents",
   "toc_cell": false,
   "toc_position": {},
   "toc_section_display": true,
   "toc_window_display": false
  }
 },
 "nbformat": 4,
 "nbformat_minor": 4
}
