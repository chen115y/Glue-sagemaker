{
 "cells": [
  {
   "cell_type": "code",
   "execution_count": 1,
   "metadata": {},
   "outputs": [],
   "source": [
    "import sagemaker\n",
    "sess = sagemaker.Session()\n",
    "bucket=sess.default_bucket()\n",
    "prefix = 'sagemaker/DEMO-xgboost-churn'\n",
    "\n",
    "# Define IAM role\n",
    "import boto3\n",
    "import re\n",
    "from sagemaker import get_execution_role\n",
    "\n",
    "role = get_execution_role()"
   ]
  },
  {
   "cell_type": "code",
   "execution_count": 2,
   "metadata": {},
   "outputs": [],
   "source": [
    "region = 'us-east-1'\n",
    "kinesis_stream_name = 'customer_churn_stream'\n",
    "sagemaker_endpoint_name = 'sagemaker-glue-blog-xgboost-churn'\n",
    "sagemaker_endpoint_config_anme = 'sagemaker-glue-blog-xgboost-churn'\n",
    "sagemaker_model_name = 'sagemaker-glue-blog-xgboost-churn'\n",
    "sagemaker_studio_id = 'd-jsqlfoq1lz3h'"
   ]
  },
  {
   "cell_type": "markdown",
   "metadata": {},
   "source": [
    "# Delete Kinesis Stream"
   ]
  },
  {
   "cell_type": "code",
   "execution_count": 3,
   "metadata": {},
   "outputs": [],
   "source": [
    "kinesis_client = boto3.client('kinesis', region)\n",
    "try:\n",
    "    response = kinesis_client.delete_stream(StreamName=kinesis_stream_name, EnforceConsumerDeletion=True)\n",
    "except:\n",
    "    pass"
   ]
  },
  {
   "cell_type": "markdown",
   "metadata": {},
   "source": [
    "# Delete SageMaker Endpoint"
   ]
  },
  {
   "cell_type": "code",
   "execution_count": 4,
   "metadata": {},
   "outputs": [],
   "source": [
    "sagemaker_client = boto3.client('sagemaker')\n",
    "try:\n",
    "    response = sagemaker_client.delete_endpoint_config(EndpointConfigName=sagemaker_endpoint_config_anme)\n",
    "    response = sagemaker_client.delete_model(ModelName=sagemaker_model_name)\n",
    "    response = sagemaker_client.delete_endpoint(EndpointName=sagemaker_endpoint_name)\n",
    "except:\n",
    "    pass"
   ]
  }
 ],
 "metadata": {
  "instance_type": "ml.t3.medium",
  "kernelspec": {
   "display_name": "Python 3 (Data Science)",
   "language": "python",
   "name": "python3__SAGEMAKER_INTERNAL__arn:aws:sagemaker:us-east-1:081325390199:image/datascience-1.0"
  },
  "language_info": {
   "codemirror_mode": {
    "name": "ipython",
    "version": 3
   },
   "file_extension": ".py",
   "mimetype": "text/x-python",
   "name": "python",
   "nbconvert_exporter": "python",
   "pygments_lexer": "ipython3",
   "version": "3.7.10"
  }
 },
 "nbformat": 4,
 "nbformat_minor": 4
}
